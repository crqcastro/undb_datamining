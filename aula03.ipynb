{
  "nbformat": 4,
  "nbformat_minor": 0,
  "metadata": {
    "colab": {
      "name": "Untitled2.ipynb",
      "provenance": [],
      "authorship_tag": "ABX9TyOARjZ2Bwi+ySKS3aPyMdPG",
      "include_colab_link": true
    },
    "kernelspec": {
      "name": "python3",
      "display_name": "Python 3"
    },
    "language_info": {
      "name": "python"
    }
  },
  "cells": [
    {
      "cell_type": "markdown",
      "metadata": {
        "id": "view-in-github",
        "colab_type": "text"
      },
      "source": [
        "<a href=\"https://colab.research.google.com/github/crqcastro/undb_datamining/blob/master/aula03.ipynb\" target=\"_parent\"><img src=\"https://colab.research.google.com/assets/colab-badge.svg\" alt=\"Open In Colab\"/></a>"
      ]
    },
    {
      "cell_type": "code",
      "metadata": {
        "id": "6FgEztqzcq2f"
      },
      "source": [
        "import pandas as pd\n",
        "from sklearn.model_selection import train_test_split\n",
        "from sklearn.ensemble import ExtraTreesClassifier\n",
        "from sklearn.metrics import confusion_matrix\n",
        "\n",
        "df = pd.read_csv(\"iris.csv\")\n",
        "\n",
        "df['variety'] = df['variety'].replace(\"Setosa\", 0)\n",
        "df['variety'] = df['variety'].replace(\"Versicolor\", 1)\n",
        "df['variety'] = df['variety'].replace(\"Virginica\", 2)\n",
        "\n",
        "X = df.drop('variety', axis=1)\n",
        "y = df['variety']\n",
        "\n",
        "X_train, X_test, y_train, y_test = train_test_split(X, y, test_size = 0.3)\n",
        "\n",
        "model = ExtraTreesClassifier()\n",
        "model.fit(X_train, y_train)\n",
        "accuracy = model.score(X_test, y_test)\n",
        "prediction = model.predict(X_test)\n",
        "confusion_matrix = confusion_matrix(y_test, prediction)\n"
      ],
      "execution_count": 22,
      "outputs": []
    },
    {
      "cell_type": "code",
      "metadata": {
        "colab": {
          "base_uri": "https://localhost:8080/"
        },
        "id": "58LX8pVSfWfi",
        "outputId": "b0ed0679-0a92-4654-f2dd-d21cbbb50abe"
      },
      "source": [
        "confusion_matrix"
      ],
      "execution_count": 23,
      "outputs": [
        {
          "output_type": "execute_result",
          "data": {
            "text/plain": [
              "array([[13,  0,  0],\n",
              "       [ 0, 16,  2],\n",
              "       [ 0,  0, 14]])"
            ]
          },
          "metadata": {},
          "execution_count": 23
        }
      ]
    }
  ]
}