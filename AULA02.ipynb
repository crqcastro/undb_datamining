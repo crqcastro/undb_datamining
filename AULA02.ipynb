{
  "nbformat": 4,
  "nbformat_minor": 0,
  "metadata": {
    "colab": {
      "name": "AULA02.ipynb",
      "provenance": [],
      "authorship_tag": "ABX9TyM0fcwQw6PgAFJGwyiE8lzp",
      "include_colab_link": true
    },
    "kernelspec": {
      "name": "python3",
      "display_name": "Python 3"
    },
    "language_info": {
      "name": "python"
    }
  },
  "cells": [
    {
      "cell_type": "markdown",
      "metadata": {
        "id": "view-in-github",
        "colab_type": "text"
      },
      "source": [
        "<a href=\"https://colab.research.google.com/github/crqcastro/undb_datamining/blob/master/AULA02.ipynb\" target=\"_parent\"><img src=\"https://colab.research.google.com/assets/colab-badge.svg\" alt=\"Open In Colab\"/></a>"
      ]
    },
    {
      "cell_type": "code",
      "metadata": {
        "id": "JyZ_jpS6WVBs"
      },
      "source": [
        "#VARIAVIES PREDITORAS\n",
        "#ALVO -> E O QUE QUER SER ENCONTRADO COM A MINERACAO DE DADOS\n",
        "#XGBUSH -> MAIS USADO PARA CRIAR MODELOS\n",
        "import pandas as pd"
      ],
      "execution_count": 1,
      "outputs": []
    }
  ]
}